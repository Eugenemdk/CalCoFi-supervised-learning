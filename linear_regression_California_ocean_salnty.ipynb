{
  "nbformat": 4,
  "nbformat_minor": 0,
  "metadata": {
    "colab": {
      "name": "linear_regression_California_ocean_salnty.ipynb",
      "provenance": []
    },
    "kernelspec": {
      "name": "python3",
      "display_name": "Python 3"
    },
    "language_info": {
      "name": "python"
    }
  },
  "cells": [
    {
      "cell_type": "markdown",
      "source": [
        "#**Import neccessary libraries for building Linear Regression**"
      ],
      "metadata": {
        "id": "pF-xIa3iHhsS"
      }
    },
    {
      "cell_type": "code",
      "execution_count": 1,
      "metadata": {
        "id": "4tZBhrF7HPrr"
      },
      "outputs": [],
      "source": [
        "import matplotlib.pyplot as plt\n",
        "import numpy as np\n",
        "from sklearn.model_selection import train_test_split\n",
        "from sklearn.linear_model import LinearRegression\n",
        "from sklearn.metrics import mean_absolute_error,mean_squared_error,r2_score\n",
        "import pandas as pd"
      ]
    },
    {
      "cell_type": "markdown",
      "source": [
        "#**Read data from the file**\n"
      ],
      "metadata": {
        "id": "DUpmsAEvIC1C"
      }
    },
    {
      "cell_type": "code",
      "source": [
        "bottle_ds = pd.read_csv('/content/bottle.csv')\n",
        "bottle_df = pd.DataFrame(bottle_ds,  columns=['Btl_Cnt','Depthm','T_degC','Salnty'],dtype=float)\n",
        "#bottle_slnty_df=bottle_df.set_index('Salnty')\n",
        "nan_values=bottle_df.isna().any()\n",
        "print(type(nan_values))\n",
        "'''\n",
        "if(nan_values.empty):\n",
        "    print(\"Column that has a NaN values\")\n",
        "    print(nan_values)\n",
        "    #bottle_df = bottle_df.interpolate()\n",
        "else:\n",
        "    print(\"No NaN values encountered\")\n",
        "'''"
      ],
      "metadata": {
        "colab": {
          "base_uri": "https://localhost:8080/",
          "height": 70
        },
        "id": "Oyj7vIzZIBoT",
        "outputId": "78914192-0cd3-4ba9-9a11-37a07f2a91d8"
      },
      "execution_count": 4,
      "outputs": [
        {
          "output_type": "stream",
          "name": "stdout",
          "text": [
            "<class 'pandas.core.series.Series'>\n"
          ]
        },
        {
          "output_type": "execute_result",
          "data": {
            "application/vnd.google.colaboratory.intrinsic+json": {
              "type": "string"
            },
            "text/plain": [
              "'\\nif(nan_values.empty):\\n    print(\"Column that has a NaN values\")\\n    print(nan_values)\\n    #bottle_df = bottle_df.interpolate()\\nelse:\\n    print(\"No NaN values encountered\")\\n'"
            ]
          },
          "metadata": {},
          "execution_count": 4
        }
      ]
    },
    {
      "cell_type": "markdown",
      "source": [
        "#**Data Cleaning**"
      ],
      "metadata": {
        "id": "MA2Zgk_LIRZJ"
      }
    },
    {
      "cell_type": "code",
      "source": [
        "bottle_df = bottle_df.interpolate()\n",
        "bottle_df=bottle_df.replace([np.inf,-np.inf],0)\n",
        "X_data=bottle_df[[\"Depthm\",\"Btl_Cnt\",\"T_degC\"]]\n",
        "y_target=bottle_df[\"Salnty\"]"
      ],
      "metadata": {
        "id": "lPOkY-kYIUVL"
      },
      "execution_count": 5,
      "outputs": []
    },
    {
      "cell_type": "markdown",
      "source": [
        "#**Splitting the data into train and test**"
      ],
      "metadata": {
        "id": "PMg8mePVIVRi"
      }
    },
    {
      "cell_type": "code",
      "source": [
        "x_train,x_test,y_train,y_test=train_test_split(X_data,y_target,test_size=0.4,shuffle=True)\n",
        "\n",
        "print(f\"y_target shape is: {y_target.shape}\")\n",
        "print(\"***TRAIN X Dataset:***\\n\")\n",
        "print(x_train.head().to_string())\n",
        "print(\"***TRAIN Y Dataset:***\\n\")\n",
        "print(y_train.head().to_string())\n",
        "print(\"***TEST X Dataset:***\\n\")\n",
        "print(x_test.head().to_string())\n",
        "print(\"***TEST Y Dataset:***\\n\")\n",
        "print(y_test.head().to_string())"
      ],
      "metadata": {
        "colab": {
          "base_uri": "https://localhost:8080/"
        },
        "id": "5QKU3uBIJgrP",
        "outputId": "9776ba73-b9ef-44bc-fe9b-bd5058511a80"
      },
      "execution_count": 6,
      "outputs": [
        {
          "output_type": "stream",
          "name": "stdout",
          "text": [
            "y_target shape is: (23080,)\n",
            "***TRAIN X Dataset:***\n",
            "\n",
            "       Depthm  Btl_Cnt  T_degC\n",
            "22307    96.0  22308.0   14.44\n",
            "15350   250.0  15351.0    9.56\n",
            "19739   600.0  19740.0    5.55\n",
            "12590    20.0  12591.0   17.57\n",
            "22727    68.0  22728.0   15.70\n",
            "***TRAIN Y Dataset:***\n",
            "\n",
            "22307    33.660\n",
            "15350    34.317\n",
            "19739    34.344\n",
            "12590    33.593\n",
            "22727    33.660\n",
            "***TEST X Dataset:***\n",
            "\n",
            "       Depthm  Btl_Cnt  T_degC\n",
            "13548   800.0  13549.0    4.12\n",
            "7035     75.0   7036.0    9.05\n",
            "9439    250.0   9440.0    7.14\n",
            "9222    293.0   9223.0    6.84\n",
            "19043    75.0  19044.0   10.79\n",
            "***TEST Y Dataset:***\n",
            "\n",
            "13548    34.341\n",
            "7035     32.740\n",
            "9439     33.985\n",
            "9222     33.930\n",
            "19043    33.635\n"
          ]
        }
      ]
    },
    {
      "cell_type": "markdown",
      "source": [
        "#**Training the model and getting the metrics**"
      ],
      "metadata": {
        "id": "Ksl2VH7GJk-d"
      }
    },
    {
      "cell_type": "code",
      "source": [
        "#Linear Regression\n",
        "model=LinearRegression().fit(x_train,y_train)\n",
        "coefs=model.coef_\n",
        "score=model.score(x_train,y_train)\n",
        "y_pred=model.predict(x_test)\n",
        "intercept=model.intercept_\n",
        "\n",
        "print(f\"Score is:{score}\")\n",
        "print(f\"Coefficients is: {coefs}\")\n",
        "print(f\"Intercept is:{intercept}\")\n",
        "#Show metrics:\n",
        "\n",
        "print(f\"MAE is:{mean_absolute_error(y_test,y_pred)}\")\n",
        "print(f\"MSE is: mean_squared_error: {(y_test,y_pred)}\")\n",
        "print(f\"R2Score is: {r2_score(y_test,y_pred)}\")\n",
        "\n",
        "print(f\"Y test shape is: {y_test.shape}\")\n",
        "print(f\"Y pred shape is: {y_pred.shape}\")\n",
        "act_pred_salnty=pd.DataFrame({\"Actual value\":y_test,\"Predicted value\":y_pred,\"Difference:\":y_test-y_pred})\n",
        "print(act_pred_salnty[0:10].to_string())"
      ],
      "metadata": {
        "colab": {
          "base_uri": "https://localhost:8080/"
        },
        "id": "ofAEw83HJ_8r",
        "outputId": "6b65a260-9589-4b13-9b76-3ece0a37f8e0"
      },
      "execution_count": 7,
      "outputs": [
        {
          "output_type": "stream",
          "name": "stdout",
          "text": [
            "Score is:0.5117923004396976\n",
            "Coefficients is: [ 7.71582907e-04  2.23787558e-07 -2.06745364e-02]\n",
            "Intercept is:33.72790685487639\n",
            "MAE is:0.2774368923871604\n",
            "MSE is: mean_squared_error: (13548    34.341\n",
            "7035     32.740\n",
            "9439     33.985\n",
            "9222     33.930\n",
            "19043    33.635\n",
            "          ...  \n",
            "3912     34.514\n",
            "6379     34.490\n",
            "9700     34.160\n",
            "4799     34.572\n",
            "17912    32.680\n",
            "Name: Salnty, Length: 9232, dtype: float64, array([34.26302619, 33.60024559, 33.77529895, ..., 34.6391447 ,\n",
            "       34.33822656, 33.3871968 ]))\n",
            "R2Score is: 0.5133780980255953\n",
            "Y test shape is: (9232,)\n",
            "Y pred shape is: (9232,)\n",
            "       Actual value  Predicted value  Difference:\n",
            "13548        34.341        34.263026     0.077974\n",
            "7035         32.740        33.600246    -0.860246\n",
            "9439         33.985        33.775299     0.209701\n",
            "9222         33.930        33.814631     0.115369\n",
            "19043        33.635        33.566959     0.068041\n",
            "19977        33.960        33.724827     0.235173\n",
            "22734        33.980        33.671170     0.308830\n",
            "5332         33.969        33.816060     0.152940\n",
            "399          34.187        34.090675     0.096325\n",
            "2978         34.020        33.916674     0.103326\n"
          ]
        }
      ]
    },
    {
      "cell_type": "markdown",
      "source": [
        "#**Visualization of training model**"
      ],
      "metadata": {
        "id": "n_i--miVKCBO"
      }
    },
    {
      "cell_type": "code",
      "source": [
        "plt.figure(figsize=[10.4,5.2])\n",
        "plt.title(\"Actual vs Predicted value of Salinity\")\n",
        "plt.xlabel(\"Predicted value of salnty\")\n",
        "plt.ylabel(\"Actual value of salnty\")\n",
        "#Linear plot\n",
        "plt.scatter(y_test,y_pred,alpha=0.5)\n",
        "plt.show()"
      ],
      "metadata": {
        "colab": {
          "base_uri": "https://localhost:8080/",
          "height": 361
        },
        "id": "9QrNpMdmKL6e",
        "outputId": "cf8d5002-cda9-4e54-e73d-e795e0166ce1"
      },
      "execution_count": 8,
      "outputs": [
        {
          "output_type": "display_data",
          "data": {
            "image/png": "[encoded data removed]",
            "text/plain": [
              "<Figure size 748.8x374.4 with 1 Axes>"
            ]
          },
          "metadata": {
            "needs_background": "light"
          }
        }
      ]
    }
  ]
}